{
 "cells": [
  {
   "cell_type": "code",
   "execution_count": 1,
   "id": "cc04c5d8",
   "metadata": {},
   "outputs": [],
   "source": [
    "from collections import Counter\n",
    "\n",
    "import pandas as pd\n",
    "import numpy as np\n",
    "from numpy import genfromtxt\n",
    "import scipy.io\n",
    "from scipy import stats\n",
    "from sklearn.tree import DecisionTreeClassifier, export_graphviz\n",
    "from sklearn.base import BaseEstimator, ClassifierMixin\n",
    "from sklearn.model_selection import cross_validate\n",
    "import sklearn.tree\n",
    "import matplotlib.pyplot as plt"
   ]
  },
  {
   "cell_type": "code",
   "execution_count": 2,
   "id": "a9837f3b",
   "metadata": {},
   "outputs": [],
   "source": [
    "import random\n",
    "random.seed(246810)\n",
    "np.random.seed(246810)\n",
    "\n",
    "eps = 1e-5  # a small number"
   ]
  },
  {
   "cell_type": "code",
   "execution_count": 3,
   "id": "339674ec",
   "metadata": {},
   "outputs": [],
   "source": [
    "def w(x):\n",
    "    return np.int(hash(x)) % 1000\n",
    "\n",
    "\n",
    "h = np.vectorize(w)"
   ]
  },
  {
   "cell_type": "code",
   "execution_count": 1,
   "id": "6a466b98",
   "metadata": {},
   "outputs": [],
   "source": [
    "class TreeNode:\n",
    "    def __init__(self, split_rule, left, right, label):\n",
    "        self.left = left\n",
    "        self.right = right\n",
    "        self.label = label\n",
    "        self.split_rule = split_rule\n",
    "    \n",
    "    def is_leaf(self):\n",
    "        return self.label is not None\n",
    "    \n",
    "    def get_label(self, x):\n",
    "        if self.is_leaf():\n",
    "            return self.label\n",
    "        else:\n",
    "            idx = self.split_rule[0]\n",
    "            thresh = self.split_rule[1]\n",
    "            if x[idx] <= thresh:\n",
    "                return self.left.get_label(x)\n",
    "            else:\n",
    "                return self.right.get_label(x)\n",
    "    \n",
    "    #Function which helps visualizing the tree\n",
    "    def print2DUtil(self, root, space, feature_list=None):\n",
    "        COUNT = [10]\n",
    "        # Base case\n",
    "        if (root == None) :\n",
    "            return\n",
    "        # Increase distance between levels\n",
    "        space += COUNT[0]\n",
    "        # Process right child first\n",
    "        self.print2DUtil(root.right, space)\n",
    "        # Print current node after space\n",
    "        # count\n",
    "        print()\n",
    "        for i in range(COUNT[0], space):\n",
    "            print(end = \" \")\n",
    "        if root.is_leaf():\n",
    "            print(repr(['leaf',root.label]))\n",
    "        else:\n",
    "            print(repr(['node',root.split_rule]))\n",
    "        # Process left child\n",
    "        self.print2DUtil(root.left, space)\n",
    "        \n",
    "    def print2D(self,root):\n",
    "        self.print2DUtil(root, 0)"
   ]
  },
  {
   "cell_type": "code",
   "execution_count": 6,
   "id": "231f569f",
   "metadata": {},
   "outputs": [],
   "source": [
    "class DecisionTree:\n",
    "    def __init__(self, max_depth=3, feature_labels=None):\n",
    "        # TODO implement __init__ function\n",
    "        self.max_depth = max_depth\n",
    "        self.features = feature_labels\n",
    "        self.tree = None\n",
    "        \n",
    "    @staticmethod\n",
    "    def information_gain(X, y, thresh):\n",
    "        # TODO implement information gain function\n",
    "        return np.random.rand()\n",
    "\n",
    "    @staticmethod\n",
    "    def entropy(y):\n",
    "        _, Counts = np.unique(y, return_counts = True)\n",
    "        probs = Counts/Counts.sum()\n",
    "        return sum((probs + eps)  * -np.log2(probs + eps))\n",
    "    \n",
    "    def child_entropy(self, left_data, right_data):\n",
    "        total = len(left_data) + len(right_data)\n",
    "        return len(left_data)/(total+eps) * self.entropy(left_data) + len(right_data)/(total+eps)*self.entropy(right_data)\n",
    "    \n",
    "    def split(self, X, y, idx, thresh):\n",
    "        # TODO implement split function\n",
    "        cont_left = X[:,idx] <= thresh\n",
    "        cont_right = X[:, idx] > thresh\n",
    "        left_data = X[cont_left]\n",
    "        right_data = X[cont_right]\n",
    "        left = y[cont_left]\n",
    "        right = y[cont_right]\n",
    "        return left_data, right_data, left, right\n",
    "\n",
    "    def best_split(self, feature_col, y): # Caculate best split for one feature\n",
    "        concatenated = np.c_[feature_col, y]\n",
    "        sorted_mat = concatenated[concatenated[:, 0].argsort()]\n",
    "        best_entropy, best_thresh = self.entropy(y), None         \n",
    "        for thresh in sorted_mat[:,0]:\n",
    "            _, _, left, right = self.split(sorted_mat, sorted_mat[:,-1], 0, thresh)\n",
    "            child_entro = self.child_entropy(left, right)\n",
    "            if (child_entro < best_entropy):\n",
    "                best_entropy = child_entro\n",
    "                best_thresh = thresh\n",
    "        return best_entropy, best_thresh\n",
    "    \n",
    "    def pure(self, y):\n",
    "        #label = data[:,-1]\n",
    "        unique_classes,unique_class_count = np.unique(y,return_counts=True)\n",
    "\n",
    "        if len(unique_classes) == 1:\n",
    "            return True\n",
    "        else:\n",
    "            return False  \n",
    "        \n",
    "    def most(self, y) :\n",
    "        unique_classes,unique_class_count = np.unique(y,return_counts=True)\n",
    "        return unique_classes[unique_class_count.argmax()]\n",
    "    \n",
    "    # Function that grows the tree\n",
    "    def growTree(self, X, y, depth):\n",
    "        if (self.pure(y)):\n",
    "            return TreeNode(None, None, None, self.most(y))\n",
    "        else:\n",
    "            if depth == self.max_depth:\n",
    "                return TreeNode(None, None, None, self.most(y))\n",
    "            best_intro = self.entropy(y)\n",
    "            best_thresh = None\n",
    "            feature = None\n",
    "            for idx in range(len(X[0])):\n",
    "                entro, thresh = self.best_split(X[:,idx], y)\n",
    "                if entro < best_intro:\n",
    "                    best_intro = entro\n",
    "                    best_thresh = thresh\n",
    "                    feature = idx\n",
    "            if feature is None: # NO good feature    \n",
    "                return TreeNode(None, None, None, self.most(y))\n",
    "            left_data, right_data, left_y, right_y = self.split(X, y, feature, best_thresh)\n",
    "            if len(left_data) == 0 or len(left_data[0]) == 0:\n",
    "                return TreeNode((feature, best_thresh), TreeNode(None, None, None, self.most(y)), self.growTree(right_data, right_y, depth+1), None)\n",
    "            elif len(right_data) == 0 or len(right_data[0]) == 0:\n",
    "                 return TreeNode((feature, best_thresh), self.growTree(left_data, left_y, depth+1), TreeNode(None, None, None, self.most(y)), None)\n",
    "            return TreeNode((feature, best_thresh), self.growTree(left_data, left_y, depth+1), self.growTree(right_data, right_y, depth+1), None)\n",
    "            \n",
    "    def fit(self, X, y):\n",
    "        # TODO implement fit function\n",
    "        idx_range = len(y)\n",
    "        decision_tree = self.growTree(X, y, 0)\n",
    "        self.tree = decision_tree\n",
    "\n",
    "    def predict(self, X):\n",
    "        # TODO implement predict function\n",
    "        result = np.ones(X.shape[0])\n",
    "        for i in range(X.shape[0]):\n",
    "            result[i] = self.tree.get_label(X[i])\n",
    "        return result"
   ]
  },
  {
   "cell_type": "code",
   "execution_count": 7,
   "id": "3fcd16f9",
   "metadata": {},
   "outputs": [],
   "source": [
    "spam_data = scipy.io.loadmat(\"datasets/spam_data/spam_data.mat\")"
   ]
  },
  {
   "cell_type": "code",
   "execution_count": 8,
   "id": "0ec8520d",
   "metadata": {},
   "outputs": [
    {
     "data": {
      "text/plain": [
       "((4137, 32), (4137,), (1035, 32), (1035,))"
      ]
     },
     "execution_count": 8,
     "metadata": {},
     "output_type": "execute_result"
    }
   ],
   "source": [
    "spam_data_zip = np.append(spam_data['training_data'], spam_data['training_labels'], 1)\n",
    "spam_shuffled = np.random.permutation(spam_data_zip)\n",
    "spam_train, spam_val = spam_shuffled[1035:], spam_shuffled[:1035]\n",
    "spam_train_data, spam_train_label = np.delete(spam_train, 32, 1), spam_train[:,32] #train data and label\n",
    "spam_val_data, spam_val_label = np.delete(spam_val, 32, 1), spam_val[:,32] #val data and label\n",
    "spam_train_data.shape, spam_train_label.shape, spam_val_data.shape, spam_val_label.shape"
   ]
  },
  {
   "cell_type": "code",
   "execution_count": null,
   "id": "2673ea4b",
   "metadata": {},
   "outputs": [],
   "source": [
    "# 3.5.3"
   ]
  },
  {
   "cell_type": "code",
   "execution_count": 65,
   "id": "7de55817",
   "metadata": {},
   "outputs": [],
   "source": [
    "depths = [2, 5, 10, 15, 20, 30, 40]\n",
    "accs = np.ones(7)"
   ]
  },
  {
   "cell_type": "code",
   "execution_count": 66,
   "id": "45ed89bc",
   "metadata": {},
   "outputs": [],
   "source": [
    "for idx in range(len(depths)):\n",
    "    clf = DecisionTree(depths[idx])\n",
    "    clf.fit(spam_train_data, spam_train_label)\n",
    "    validation = clf.predict(spam_val_data)\n",
    "    acc = sum(validation == spam_val_label)/(spam_val_label.shape[0])\n",
    "    accs[idx] = acc"
   ]
  },
  {
   "cell_type": "code",
   "execution_count": 67,
   "id": "627076fb",
   "metadata": {},
   "outputs": [
    {
     "data": {
      "text/plain": [
       "0.8863911046652163"
      ]
     },
     "execution_count": 67,
     "metadata": {},
     "output_type": "execute_result"
    }
   ],
   "source": [
    "# 3.4 spam training accuracy\n",
    "train = clf.predict(spam_train_data)\n",
    "acc = sum(train == spam_train_label)/(spam_train_label.shape[0])\n",
    "acc"
   ]
  },
  {
   "cell_type": "code",
   "execution_count": 68,
   "id": "4c2b5fbd",
   "metadata": {},
   "outputs": [
    {
     "data": {
      "text/plain": [
       "Text(0.5, 1.0, 'Depth vs. Accuracy')"
      ]
     },
     "execution_count": 68,
     "metadata": {},
     "output_type": "execute_result"
    },
    {
     "data": {
      "image/png": "[encoded data removed]",
      "text/plain": [
       "<Figure size 432x288 with 1 Axes>"
      ]
     },
     "metadata": {
      "needs_background": "light"
     },
     "output_type": "display_data"
    }
   ],
   "source": [
    "plt.plot(depths, accs)\n",
    "plt.ylabel(\"Accuracy\")\n",
    "plt.xlabel(\"Decision Tree Depth\")\n",
    "plt.title(\"Depth vs. Accuracy\")"
   ]
  },
  {
   "cell_type": "code",
   "execution_count": 9,
   "id": "011a3b99",
   "metadata": {},
   "outputs": [],
   "source": [
    "clf = DecisionTree()\n",
    "clf.fit(spam_data['training_data'], spam_data['training_labels'])"
   ]
  },
  {
   "cell_type": "code",
   "execution_count": 10,
   "id": "7d0f4dff",
   "metadata": {},
   "outputs": [
    {
     "name": "stdout",
     "output_type": "stream",
     "text": [
      "\n",
      "                    ['leaf', 0]\n",
      "\n",
      "          ['node', (19, 0.0)]\n",
      "\n",
      "                              ['leaf', 0]\n",
      "\n",
      "                    ['node', (31, 0.0)]\n",
      "\n",
      "                              ['leaf', 1]\n",
      "\n",
      "['node', (28, 0.0)]\n",
      "\n",
      "                    ['leaf', 0]\n",
      "\n",
      "          ['node', (19, 0.0)]\n",
      "\n",
      "                              ['leaf', 0]\n",
      "\n",
      "                    ['node', (29, 0.0)]\n",
      "\n",
      "                              ['leaf', 0]\n"
     ]
    }
   ],
   "source": [
    "# 3.5.2\n",
    "clf.tree.print2D(clf.tree)"
   ]
  },
  {
   "cell_type": "code",
   "execution_count": 12,
   "id": "ffa936f2",
   "metadata": {},
   "outputs": [],
   "source": [
    "class RandomForest(BaggedTrees):\n",
    "    def __init__(self, params=None, n=200, m=1):\n",
    "        if params is None:\n",
    "            params = {}\n",
    "        self.n = n\n",
    "        self.m = m\n",
    "        self.tree = [None for i in range(self.n)]\n",
    "        self.max_depth = 7\n",
    "    \n",
    "    @staticmethod\n",
    "    def entropy(y):\n",
    "        # TODO implement entropy (or optionally gini impurity) function\n",
    "        _, Counts = np.unique(y, return_counts = True)\n",
    "        probs = Counts/Counts.sum()\n",
    "        return sum((probs + eps)  * -np.log2(probs + eps))\n",
    "    \n",
    "    def child_entropy(self, left_data, right_data):\n",
    "        total = len(left_data) + len(right_data)\n",
    "        return len(left_data)/(total+eps) * self.entropy(left_data) + len(right_data)/(total+eps)*self.entropy(right_data)\n",
    "    \n",
    "    def split(self, X, y, idx, thresh):\n",
    "        # TODO implement split function\n",
    "        cont_left = X[:,idx] <= thresh\n",
    "        cont_right = X[:, idx] > thresh\n",
    "        left_data = X[cont_left]\n",
    "        right_data = X[cont_right]\n",
    "        left = y[cont_left]\n",
    "        right = y[cont_right]\n",
    "        return left_data, right_data, left, right\n",
    "\n",
    "    def best_split(self, feature_col, y): # Caculate best split for one feature\n",
    "        concatenated = np.c_[feature_col, y]\n",
    "        sorted_mat = concatenated[concatenated[:, 0].argsort()]\n",
    "        best_entropy, best_thresh = self.entropy(y), None \n",
    "        \n",
    "        for thresh in sorted_mat[:,0]:\n",
    "            _, _, left, right = self.split(sorted_mat, sorted_mat[:,-1], 0, thresh)\n",
    "            child_entro = self.child_entropy(left, right)\n",
    "            if (child_entro < best_entropy):\n",
    "                best_entropy = child_entro\n",
    "                best_thresh = thresh\n",
    "        return best_entropy, best_thresh\n",
    "    \n",
    "    def pure(self, y):\n",
    "        unique_classes,unique_class_count = np.unique(y,return_counts=True)\n",
    "        if len(unique_classes) == 1:\n",
    "            return True\n",
    "        else:\n",
    "            return False  \n",
    "        \n",
    "    def most(self, y) :\n",
    "        unique_classes,unique_class_count = np.unique(y,return_counts=True)\n",
    "        return unique_classes[unique_class_count.argmax()]\n",
    "            \n",
    "    def growTree(self, X, y, depth):\n",
    "        if (self.pure(y)):\n",
    "            return TreeNode(None, None, None, self.most(y))\n",
    "        else:\n",
    "            if depth == self.max_depth:\n",
    "                return TreeNode(None, None, None, self.most(y))\n",
    "            best_intro = self.entropy(y)\n",
    "            best_thresh = None\n",
    "            feature = None\n",
    "            rng = np.random.default_rng(123)\n",
    "            indices = rng.choice(len(X[0]), replace=False, size=self.m) \n",
    "            \n",
    "            for idx in indices:\n",
    "                entro, thresh = self.best_split(X[:,idx], y)\n",
    "                if entro < best_intro: \n",
    "                    best_intro = entro\n",
    "                    best_thresh = thresh\n",
    "                    feature = idx\n",
    "            # add back to the rest of the X\n",
    "            if feature is None: # NO good feature    \n",
    "                return TreeNode(None, None, None, self.most(y)) \n",
    "            left_data, right_data, left_y, right_y =self.split(X, y, feature, best_thresh)\n",
    "            \n",
    "            if len(left_data) == 0 or len(left_data[0]) == 0:\n",
    "                return TreeNode((feature, best_thresh), TreeNode(None, None, None, self.most(y)), self.growTree(right_data, right_y, depth+1), None)\n",
    "            elif len(right_data) == 0 or len(right_data[0]) == 0:\n",
    "                 return TreeNode((feature, best_thresh), self.growTree(left_data, left_y, depth+1), TreeNode(None, None, None, self.most(y)), None)\n",
    "            return TreeNode((feature, best_thresh), self.growTree(left_data, left_y, depth+1), self.growTree(right_data, right_y, depth+1), None)\n",
    "            \n",
    "    def fit(self, X, y):\n",
    "        for idx in range(self.n):\n",
    "            mask = np.random.choice(X.shape[0], X.shape[0], replace=True)\n",
    "            bagged_X = X[mask]\n",
    "            bagged_y = y[mask]\n",
    "            decision_tree = self.growTree(bagged_X, bagged_y, 0)\n",
    "            self.tree[idx] = decision_tree\n",
    "\n",
    "    def predict(self, X):\n",
    "        result = np.ones(X.shape[0])\n",
    "        for idx in range(len(self.tree)):\n",
    "            tree = self.tree[idx]\n",
    "            vote = np.ones(X.shape[0])\n",
    "            for i in range(X.shape[0]):\n",
    "                vote[i] = tree.get_label(X[i])\n",
    "            result += vote\n",
    "        for idx in range(len(result)):\n",
    "            if result[idx] >= (self.n)/2:\n",
    "                result[idx] = 1\n",
    "            else:\n",
    "                result[idx] = 0\n",
    "        return result"
   ]
  },
  {
   "cell_type": "code",
   "execution_count": 13,
   "id": "023cf3c0",
   "metadata": {},
   "outputs": [
    {
     "data": {
      "text/plain": [
       "(0.7507246376811594, 0.7655305777133188)"
      ]
     },
     "execution_count": 13,
     "metadata": {},
     "output_type": "execute_result"
    }
   ],
   "source": [
    "# Spam Random forest\n",
    "clf = RandomForest(n=20, m = 16)\n",
    "\n",
    "clf.fit(spam_train_data, spam_train_label)\n",
    "\n",
    "validation = clf.predict(spam_val_data)\n",
    "train = clf.predict(spam_train_data)\n",
    "sum(validation == spam_val_label)/1035, sum(train == spam_train_label)/4137"
   ]
  },
  {
   "cell_type": "code",
   "execution_count": 21,
   "id": "75f1fd4c",
   "metadata": {},
   "outputs": [],
   "source": [
    "def preprocess(data):\n",
    "    data['sex'].replace(['female', 'male'],[0, 1], inplace=True)\n",
    "    data.drop(['ticket','cabin'], inplace=True, axis=1)\n",
    "    \n",
    "    #One hot encoding\n",
    "    embark_dummies = pd.get_dummies(data.embarked)\n",
    "    plass_dummies = pd.get_dummies(data.pclass)\n",
    "    \n",
    "    #Drop the original\n",
    "    data = pd.concat([data, embark_dummies], axis='columns')\n",
    "    data = pd.concat([data, plass_dummies], axis='columns')\n",
    "    data.drop(['embarked'], inplace=True, axis=1)\n",
    "    data.drop(['pclass'], inplace=True, axis=1)\n",
    "    \n",
    "    #Inference the Nan by median\n",
    "    median_values=data[['sex','age','sibsp','parch','fare']].median()\n",
    "    data[['sex','age','sibsp','parch','fare']] = data[['sex','age','sibsp','parch','fare']].fillna(value=median_values)\n",
    "    return data"
   ]
  },
  {
   "cell_type": "code",
   "execution_count": 22,
   "id": "0b473e35",
   "metadata": {},
   "outputs": [],
   "source": [
    "Training_Data_Path = 'datasets/titanic/titanic_training.csv'\n",
    "Testing_Data_Path = 'datasets/titanic/titanic_testing_data.csv'\n",
    "\n",
    "titanic_train_data = pd.read_csv(Training_Data_Path, header=0)\n",
    "Testing_data = pd.read_csv(Testing_Data_Path, header=0)\n",
    "\n",
    "titanic_train_data_processed = preprocess(titanic_train_data)\n",
    "Testing_data_processed = preprocess(Testing_data)"
   ]
  },
  {
   "cell_type": "code",
   "execution_count": 23,
   "id": "fabb2ef3",
   "metadata": {},
   "outputs": [],
   "source": [
    "titanic_train_data = titanic_train_data_processed.iloc[:,1:]\n",
    "titanic_train_label = titanic_train_data_processed.iloc[:,0]"
   ]
  },
  {
   "cell_type": "code",
   "execution_count": 18,
   "id": "c7898348",
   "metadata": {},
   "outputs": [],
   "source": [
    "titanic_train_data_processed = titanic_train_data_processed.to_numpy()\n",
    "titanic_test_data = Testing_data_processed.to_numpy()"
   ]
  },
  {
   "cell_type": "code",
   "execution_count": 19,
   "id": "31349fde",
   "metadata": {},
   "outputs": [
    {
     "data": {
      "text/plain": [
       "((799, 11), (799,), (200, 11), (200,))"
      ]
     },
     "execution_count": 19,
     "metadata": {},
     "output_type": "execute_result"
    }
   ],
   "source": [
    "titanic_data_zip = np.c_[titanic_train_data, titanic_train_label]\n",
    "titanic_shuffled = np.random.permutation(titanic_data_zip)\n",
    "titanic_train, titanic_val = titanic_shuffled[200:], titanic_shuffled[:200]\n",
    "titanic_train_data, titanic_train_label = np.delete(titanic_train, 11, 1), titanic_train[:,11] #train data and label\n",
    "titanic_val_data, titanic_val_label = np.delete(titanic_val, 11, 1), titanic_val[:,11] #val data and label\n",
    "titanic_train_data.shape, titanic_train_label.shape, titanic_val_data.shape, titanic_val_label.shape"
   ]
  },
  {
   "cell_type": "code",
   "execution_count": 99,
   "id": "16f9bed3",
   "metadata": {},
   "outputs": [],
   "source": [
    "# Titanic Decision Tree\n",
    "clf = DecisionTree(max_depth=5)"
   ]
  },
  {
   "cell_type": "code",
   "execution_count": 100,
   "id": "0920d7e1",
   "metadata": {},
   "outputs": [],
   "source": [
    "clf.fit(titanic_train_data, titanic_train_label)"
   ]
  },
  {
   "cell_type": "code",
   "execution_count": 101,
   "id": "ac5f0846",
   "metadata": {},
   "outputs": [
    {
     "data": {
      "text/plain": [
       "(0.83729662077597, 0.8)"
      ]
     },
     "execution_count": 101,
     "metadata": {},
     "output_type": "execute_result"
    }
   ],
   "source": [
    "validation = clf.predict(titanic_val_data)\n",
    "train = clf.predict(titanic_train_data)\n",
    "sum(train == titanic_train_label)/(titanic_train_label.shape[0]), sum(validation == titanic_val_label)/(titanic_val_label.shape[0])"
   ]
  },
  {
   "cell_type": "code",
   "execution_count": 79,
   "id": "5744362e",
   "metadata": {},
   "outputs": [],
   "source": [
    "#clf.tree.print2D(clf.tree)"
   ]
  },
  {
   "cell_type": "code",
   "execution_count": 80,
   "id": "43ecd283",
   "metadata": {},
   "outputs": [
    {
     "data": {
      "text/plain": [
       "(0.7847309136420526, 0.825)"
      ]
     },
     "execution_count": 80,
     "metadata": {},
     "output_type": "execute_result"
    }
   ],
   "source": [
    "## Titanic Random Forest\n",
    "clf = RandomForest(n=100, m = 5)\n",
    "clf.fit(titanic_train_data, titanic_train_label)\n",
    "validation = clf.predict(titanic_val_data)\n",
    "train = clf.predict(titanic_train_data)\n",
    "sum(train == titanic_train_label)/(titanic_train_label.shape[0]), sum(validation == titanic_val_label)/(titanic_val_label.shape[0])"
   ]
  },
  {
   "cell_type": "code",
   "execution_count": 111,
   "id": "9f3891e1",
   "metadata": {},
   "outputs": [
    {
     "name": "stdout",
     "output_type": "stream",
     "text": [
      "\n",
      "                              ['leaf', 0.0]\n",
      "\n",
      "                    ['node', (8, 0.0)]\n",
      "\n",
      "                              ['leaf', 0.0]\n",
      "\n",
      "          ['node', (1, 8.0)]\n",
      "\n",
      "                              ['leaf', 0.0]\n",
      "\n",
      "                    ['node', (2, 1.0)]\n",
      "\n",
      "                              ['leaf', 1.0]\n",
      "\n",
      "['node', (0, 0.0)]\n",
      "\n",
      "                              ['leaf', 0.0]\n",
      "\n",
      "                    ['node', (4, 23.25)]\n",
      "\n",
      "                              ['leaf', 1.0]\n",
      "\n",
      "          ['node', (10, 0.0)]\n",
      "\n",
      "                              ['leaf', 1.0]\n",
      "\n",
      "                    ['node', (7, 0.0)]\n",
      "\n",
      "                              ['leaf', 1.0]\n"
     ]
    }
   ],
   "source": [
    "#3.6\n",
    "clf = DecisionTree(max_depth=3)\n",
    "clf.fit(titanic_train_data, titanic_train_label)\n",
    "clf.tree.print2D(clf.tree)"
   ]
  }
 ],
 "metadata": {
  "kernelspec": {
   "display_name": "Python 3 (ipykernel)",
   "language": "python",
   "name": "python3"
  },
  "language_info": {
   "codemirror_mode": {
    "name": "ipython",
    "version": 3
   },
   "file_extension": ".py",
   "mimetype": "text/x-python",
   "name": "python",
   "nbconvert_exporter": "python",
   "pygments_lexer": "ipython3",
   "version": "3.9.7"
  }
 },
 "nbformat": 4,
 "nbformat_minor": 5
}
